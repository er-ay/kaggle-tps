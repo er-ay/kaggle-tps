{
 "cells": [
  {
   "cell_type": "code",
   "execution_count": 1,
   "id": "disturbed-trigger",
   "metadata": {
    "_cell_guid": "b1076dfc-b9ad-4769-8c92-a6c4dae69d19",
    "_uuid": "8f2839f25d086af736a60e9eeb907d3b93b6e0e5",
    "execution": {
     "iopub.execute_input": "2021-05-12T21:35:49.540296Z",
     "iopub.status.busy": "2021-05-12T21:35:49.539119Z",
     "iopub.status.idle": "2021-05-12T21:35:52.974774Z",
     "shell.execute_reply": "2021-05-12T21:35:52.975310Z"
    },
    "papermill": {
     "duration": 3.451255,
     "end_time": "2021-05-12T21:35:52.975652",
     "exception": false,
     "start_time": "2021-05-12T21:35:49.524397",
     "status": "completed"
    },
    "tags": []
   },
   "outputs": [
    {
     "data": {
      "text/html": [
       "<style type='text/css'>\n",
       ".datatable table.frame { margin-bottom: 0; }\n",
       ".datatable table.frame thead { border-bottom: none; }\n",
       ".datatable table.frame tr.coltypes td {  color: #FFFFFF;  line-height: 6px;  padding: 0 0.5em;}\n",
       ".datatable .bool    { background: #DDDD99; }\n",
       ".datatable .object  { background: #565656; }\n",
       ".datatable .int     { background: #5D9E5D; }\n",
       ".datatable .float   { background: #4040CC; }\n",
       ".datatable .str     { background: #CC4040; }\n",
       ".datatable .row_index {  background: var(--jp-border-color3);  border-right: 1px solid var(--jp-border-color0);  color: var(--jp-ui-font-color3);  font-size: 9px;}\n",
       ".datatable .frame tr.coltypes .row_index {  background: var(--jp-border-color0);}\n",
       ".datatable th:nth-child(2) { padding-left: 12px; }\n",
       ".datatable .hellipsis {  color: var(--jp-cell-editor-border-color);}\n",
       ".datatable .vellipsis {  background: var(--jp-layout-color0);  color: var(--jp-cell-editor-border-color);}\n",
       ".datatable .na {  color: var(--jp-cell-editor-border-color);  font-size: 80%;}\n",
       ".datatable .footer { font-size: 9px; }\n",
       ".datatable .frame_dimensions {  background: var(--jp-border-color3);  border-top: 1px solid var(--jp-border-color0);  color: var(--jp-ui-font-color3);  display: inline-block;  opacity: 0.6;  padding: 1px 10px 1px 5px;}\n",
       "</style>\n"
      ],
      "text/plain": [
       "<IPython.core.display.HTML object>"
      ]
     },
     "metadata": {},
     "output_type": "display_data"
    }
   ],
   "source": [
    "import numpy as np\n",
    "import pandas as pd\n",
    "import optuna\n",
    "from lightgbm import LGBMClassifier\n",
    "from sklearn.metrics import log_loss\n",
    "from sklearn.preprocessing import LabelEncoder\n",
    "from sklearn.model_selection import train_test_split"
   ]
  },
  {
   "cell_type": "code",
   "execution_count": 2,
   "id": "judicial-compact",
   "metadata": {
    "execution": {
     "iopub.execute_input": "2021-05-12T21:35:53.000311Z",
     "iopub.status.busy": "2021-05-12T21:35:52.999615Z",
     "iopub.status.idle": "2021-05-12T21:35:54.861776Z",
     "shell.execute_reply": "2021-05-12T21:35:54.862284Z"
    },
    "papermill": {
     "duration": 1.876163,
     "end_time": "2021-05-12T21:35:54.862472",
     "exception": false,
     "start_time": "2021-05-12T21:35:52.986309",
     "status": "completed"
    },
    "tags": []
   },
   "outputs": [],
   "source": [
    "train_set = pd.read_csv(\"../input/tabular-playground-series-may-2021/train.csv\")\n",
    "test_set = pd.read_csv(\"../input/tabular-playground-series-may-2021/test.csv\")\n",
    "\n",
    "train = train_set.copy()\n",
    "test = test_set.copy()\n",
    "\n",
    "train.drop(\"id\",axis=1,inplace=True)\n",
    "test.drop(\"id\",axis=1,inplace=True)\n",
    "\n",
    "train[\"sum\"] = train.sum(axis=1)\n",
    "test[\"sum\"] = test.sum(axis=1)\n",
    "\n",
    "X = np.array(train.drop(\"target\",axis=1))\n",
    "y = np.array(train[\"target\"])"
   ]
  },
  {
   "cell_type": "code",
   "execution_count": 3,
   "id": "colored-jones",
   "metadata": {
    "execution": {
     "iopub.execute_input": "2021-05-12T21:35:54.887173Z",
     "iopub.status.busy": "2021-05-12T21:35:54.886506Z",
     "iopub.status.idle": "2021-05-12T21:35:54.929745Z",
     "shell.execute_reply": "2021-05-12T21:35:54.930279Z"
    },
    "papermill": {
     "duration": 0.057433,
     "end_time": "2021-05-12T21:35:54.930476",
     "exception": false,
     "start_time": "2021-05-12T21:35:54.873043",
     "status": "completed"
    },
    "tags": []
   },
   "outputs": [],
   "source": [
    "le = LabelEncoder()\n",
    "y = le.fit_transform(np.ravel(y))"
   ]
  },
  {
   "cell_type": "code",
   "execution_count": 4,
   "id": "secure-check",
   "metadata": {
    "execution": {
     "iopub.execute_input": "2021-05-12T21:35:54.955056Z",
     "iopub.status.busy": "2021-05-12T21:35:54.954376Z",
     "iopub.status.idle": "2021-05-12T21:35:54.964295Z",
     "shell.execute_reply": "2021-05-12T21:35:54.964843Z"
    },
    "papermill": {
     "duration": 0.024293,
     "end_time": "2021-05-12T21:35:54.965030",
     "exception": false,
     "start_time": "2021-05-12T21:35:54.940737",
     "status": "completed"
    },
    "tags": []
   },
   "outputs": [],
   "source": [
    "def objective(trial,X,y):\n",
    "    \n",
    "    X_train, X_val, y_train, y_val = train_test_split(X, y, test_size=0.2,random_state=17)\n",
    "    params = {\n",
    "        'reg_alpha' : trial.suggest_loguniform('reg_alpha' , 1 , 100),\n",
    "        'reg_lambda' : trial.suggest_loguniform('reg_lambda' , 500 , 1000),\n",
    "        'num_leaves' : trial.suggest_int('num_leaves' , 90 , 150), \n",
    "        'learning_rate' : trial.suggest_float('learning_rate' , 0.01 , 0.5),\n",
    "        'max_depth' : trial.suggest_int('max_depth' , 2 , 5),               \n",
    "        'n_estimators' : trial.suggest_int('n_estimators' , 1 ,50000),\n",
    "        'min_child_samples' : trial.suggest_int('min_child_samples' , 1 , 10),\n",
    "        'min_child_weight' : trial.suggest_loguniform('min_child_weight' , 1e-3 , 2),\n",
    "        'subsample' : trial.suggest_float('subsample' , 0.008 , 1.0),\n",
    "        'colsample_bytree' : trial.suggest_float('colsample_bytree' , 0.01 , 0.3)\n",
    "    }\n",
    "    lgb = LGBMClassifier(**params)  \n",
    "    lgb.fit(X_train,y_train,eval_set=[(X_val,y_val)],eval_metric='multi_logloss',early_stopping_rounds=50, verbose=False)\n",
    "        \n",
    "    y_pred = lgb.predict_proba(X_val)\n",
    " \n",
    "    log_loss_ = log_loss(y_val, y_pred)\n",
    "    \n",
    "    return log_loss_"
   ]
  },
  {
   "cell_type": "code",
   "execution_count": 5,
   "id": "otherwise-clone",
   "metadata": {
    "execution": {
     "iopub.execute_input": "2021-05-12T21:35:54.989494Z",
     "iopub.status.busy": "2021-05-12T21:35:54.988779Z",
     "iopub.status.idle": "2021-05-12T22:03:23.629111Z",
     "shell.execute_reply": "2021-05-12T22:03:23.629934Z"
    },
    "papermill": {
     "duration": 1648.654774,
     "end_time": "2021-05-12T22:03:23.630217",
     "exception": false,
     "start_time": "2021-05-12T21:35:54.975443",
     "status": "completed"
    },
    "tags": []
   },
   "outputs": [
    {
     "name": "stderr",
     "output_type": "stream",
     "text": [
      "\u001b[32m[I 2021-05-12 21:35:54,990]\u001b[0m A new study created in memory with name: no-name-ceeabfd0-f61c-4108-a491-38392bad3438\u001b[0m\n",
      "\u001b[32m[I 2021-05-12 21:36:06,768]\u001b[0m Trial 0 finished with value: 1.090273427219918 and parameters: {'reg_alpha': 6.245349642756345, 'reg_lambda': 713.589850670399, 'num_leaves': 146, 'learning_rate': 0.1916080179774014, 'max_depth': 4, 'n_estimators': 44545, 'min_child_samples': 3, 'min_child_weight': 0.33289209305073425, 'subsample': 0.5626551307256296, 'colsample_bytree': 0.24794875848531597}. Best is trial 0 with value: 1.090273427219918.\u001b[0m\n",
      "\u001b[32m[I 2021-05-12 21:36:16,272]\u001b[0m Trial 1 finished with value: 1.0897621424210153 and parameters: {'reg_alpha': 4.285653574168257, 'reg_lambda': 662.9164028707924, 'num_leaves': 92, 'learning_rate': 0.2321229218036525, 'max_depth': 4, 'n_estimators': 17800, 'min_child_samples': 7, 'min_child_weight': 0.2913343674549357, 'subsample': 0.38013668674821327, 'colsample_bytree': 0.14545385614962242}. Best is trial 1 with value: 1.0897621424210153.\u001b[0m\n",
      "\u001b[32m[I 2021-05-12 21:36:54,722]\u001b[0m Trial 2 finished with value: 1.089225973736848 and parameters: {'reg_alpha': 12.70217105891801, 'reg_lambda': 507.3256022633552, 'num_leaves': 112, 'learning_rate': 0.07039525810262158, 'max_depth': 3, 'n_estimators': 29393, 'min_child_samples': 3, 'min_child_weight': 0.006515321241325346, 'subsample': 0.9765611859500128, 'colsample_bytree': 0.14661921945881173}. Best is trial 2 with value: 1.089225973736848.\u001b[0m\n",
      "\u001b[32m[I 2021-05-12 21:37:05,146]\u001b[0m Trial 3 finished with value: 1.0900525207782135 and parameters: {'reg_alpha': 1.3082185940105469, 'reg_lambda': 621.0952248866259, 'num_leaves': 124, 'learning_rate': 0.16255807015352172, 'max_depth': 4, 'n_estimators': 29798, 'min_child_samples': 5, 'min_child_weight': 0.0013874692172835376, 'subsample': 0.9645092299812233, 'colsample_bytree': 0.11246837156591097}. Best is trial 2 with value: 1.089225973736848.\u001b[0m\n",
      "\u001b[32m[I 2021-05-12 21:37:38,378]\u001b[0m Trial 4 finished with value: 1.089649253401799 and parameters: {'reg_alpha': 22.39124695680619, 'reg_lambda': 783.887334344633, 'num_leaves': 107, 'learning_rate': 0.14016251204396413, 'max_depth': 4, 'n_estimators': 47293, 'min_child_samples': 10, 'min_child_weight': 0.02549046715504515, 'subsample': 0.6571796321783459, 'colsample_bytree': 0.15050563194541505}. Best is trial 2 with value: 1.089225973736848.\u001b[0m\n",
      "\u001b[32m[I 2021-05-12 21:37:59,410]\u001b[0m Trial 5 finished with value: 1.0897351581293042 and parameters: {'reg_alpha': 2.8216954364697813, 'reg_lambda': 561.6519143383813, 'num_leaves': 142, 'learning_rate': 0.12131605323442973, 'max_depth': 4, 'n_estimators': 25780, 'min_child_samples': 1, 'min_child_weight': 0.04453984744313432, 'subsample': 0.3326294018577011, 'colsample_bytree': 0.14873375797035987}. Best is trial 2 with value: 1.089225973736848.\u001b[0m\n",
      "\u001b[32m[I 2021-05-12 21:38:20,133]\u001b[0m Trial 6 finished with value: 1.089516101313737 and parameters: {'reg_alpha': 1.718124331827057, 'reg_lambda': 964.5929365464766, 'num_leaves': 119, 'learning_rate': 0.2574906040018671, 'max_depth': 2, 'n_estimators': 32516, 'min_child_samples': 1, 'min_child_weight': 0.010355563640008947, 'subsample': 0.09121407737803244, 'colsample_bytree': 0.27061288941446454}. Best is trial 2 with value: 1.089225973736848.\u001b[0m\n",
      "\u001b[32m[I 2021-05-12 21:43:22,966]\u001b[0m Trial 7 finished with value: 1.092687432637026 and parameters: {'reg_alpha': 68.98809617605924, 'reg_lambda': 957.6520433583298, 'num_leaves': 119, 'learning_rate': 0.03313165117031613, 'max_depth': 3, 'n_estimators': 30554, 'min_child_samples': 5, 'min_child_weight': 0.024346481054586654, 'subsample': 0.5092582383672697, 'colsample_bytree': 0.27661501603238875}. Best is trial 2 with value: 1.089225973736848.\u001b[0m\n",
      "\u001b[32m[I 2021-05-12 21:43:44,155]\u001b[0m Trial 8 finished with value: 1.0936252189381204 and parameters: {'reg_alpha': 86.89310183608673, 'reg_lambda': 714.0074414273505, 'num_leaves': 140, 'learning_rate': 0.4638365284230755, 'max_depth': 4, 'n_estimators': 4093, 'min_child_samples': 10, 'min_child_weight': 0.10257600564892302, 'subsample': 0.7055693914773221, 'colsample_bytree': 0.22348242548395628}. Best is trial 2 with value: 1.089225973736848.\u001b[0m\n",
      "\u001b[32m[I 2021-05-12 21:43:50,369]\u001b[0m Trial 9 finished with value: 1.0905345550444994 and parameters: {'reg_alpha': 21.458694638962562, 'reg_lambda': 672.0436526125809, 'num_leaves': 133, 'learning_rate': 0.48872361286891114, 'max_depth': 4, 'n_estimators': 3526, 'min_child_samples': 9, 'min_child_weight': 0.029891198794346638, 'subsample': 0.9722869374970811, 'colsample_bytree': 0.217329107873446}. Best is trial 2 with value: 1.089225973736848.\u001b[0m\n",
      "\u001b[32m[I 2021-05-12 21:47:33,213]\u001b[0m Trial 10 finished with value: 1.0948567344653823 and parameters: {'reg_alpha': 15.712800424292599, 'reg_lambda': 511.9756720200683, 'num_leaves': 95, 'learning_rate': 0.01631415824016219, 'max_depth': 2, 'n_estimators': 12630, 'min_child_samples': 3, 'min_child_weight': 0.0016387350887885114, 'subsample': 0.839487252707251, 'colsample_bytree': 0.015235023556403826}. Best is trial 2 with value: 1.089225973736848.\u001b[0m\n",
      "\u001b[32m[I 2021-05-12 21:47:43,267]\u001b[0m Trial 11 finished with value: 1.0896680683364814 and parameters: {'reg_alpha': 1.2171307810116725, 'reg_lambda': 949.9048946539999, 'num_leaves': 113, 'learning_rate': 0.37755570959138496, 'max_depth': 2, 'n_estimators': 38050, 'min_child_samples': 1, 'min_child_weight': 0.004006304420250239, 'subsample': 0.09985967074312246, 'colsample_bytree': 0.05823194180302213}. Best is trial 2 with value: 1.089225973736848.\u001b[0m\n",
      "\u001b[32m[I 2021-05-12 21:47:55,328]\u001b[0m Trial 12 finished with value: 1.089817783418775 and parameters: {'reg_alpha': 8.787026901396318, 'reg_lambda': 861.3925035182941, 'num_leaves': 103, 'learning_rate': 0.3268459049041295, 'max_depth': 3, 'n_estimators': 37162, 'min_child_samples': 3, 'min_child_weight': 0.005888128921630394, 'subsample': 0.042725338169476525, 'colsample_bytree': 0.08890419593280245}. Best is trial 2 with value: 1.089225973736848.\u001b[0m\n",
      "\u001b[32m[I 2021-05-12 21:49:23,298]\u001b[0m Trial 13 finished with value: 1.0906116355546691 and parameters: {'reg_alpha': 40.974820756420776, 'reg_lambda': 508.0714584843616, 'num_leaves': 125, 'learning_rate': 0.2911783845101908, 'max_depth': 2, 'n_estimators': 19077, 'min_child_samples': 1, 'min_child_weight': 0.007708106517905679, 'subsample': 0.2165282191558779, 'colsample_bytree': 0.19667368414626293}. Best is trial 2 with value: 1.089225973736848.\u001b[0m\n",
      "\u001b[32m[I 2021-05-12 21:50:04,699]\u001b[0m Trial 14 finished with value: 1.0897700895244344 and parameters: {'reg_alpha': 2.873790867492744, 'reg_lambda': 833.895725176388, 'num_leaves': 114, 'learning_rate': 0.06697355088491365, 'max_depth': 3, 'n_estimators': 37155, 'min_child_samples': 2, 'min_child_weight': 1.6068182787625556, 'subsample': 0.8308002316079033, 'colsample_bytree': 0.2941614064420089}. Best is trial 2 with value: 1.089225973736848.\u001b[0m\n",
      "\u001b[32m[I 2021-05-12 21:50:10,935]\u001b[0m Trial 15 finished with value: 1.090912041757747 and parameters: {'reg_alpha': 12.2215418053436, 'reg_lambda': 582.3171076277185, 'num_leaves': 102, 'learning_rate': 0.3561870008415242, 'max_depth': 5, 'n_estimators': 31482, 'min_child_samples': 4, 'min_child_weight': 0.010590794689202727, 'subsample': 0.23091260157753746, 'colsample_bytree': 0.18366071810982307}. Best is trial 2 with value: 1.089225973736848.\u001b[0m\n",
      "\u001b[32m[I 2021-05-12 21:50:44,605]\u001b[0m Trial 16 finished with value: 1.0901799188044412 and parameters: {'reg_alpha': 32.556627898082354, 'reg_lambda': 988.6719876652567, 'num_leaves': 130, 'learning_rate': 0.2611335190896984, 'max_depth': 2, 'n_estimators': 21348, 'min_child_samples': 7, 'min_child_weight': 0.0015789993412159077, 'subsample': 0.014335772283475393, 'colsample_bytree': 0.10896924882657164}. Best is trial 2 with value: 1.089225973736848.\u001b[0m\n",
      "\u001b[32m[I 2021-05-12 21:50:58,432]\u001b[0m Trial 17 finished with value: 1.0899735517821707 and parameters: {'reg_alpha': 2.0134006422228268, 'reg_lambda': 774.6858231277808, 'num_leaves': 113, 'learning_rate': 0.21611880080444856, 'max_depth': 3, 'n_estimators': 40951, 'min_child_samples': 2, 'min_child_weight': 0.0032450237881318823, 'subsample': 0.38154556905344605, 'colsample_bytree': 0.26274306680724546}. Best is trial 2 with value: 1.089225973736848.\u001b[0m\n",
      "\u001b[32m[I 2021-05-12 21:51:07,011]\u001b[0m Trial 18 finished with value: 1.0901962355828425 and parameters: {'reg_alpha': 6.226323260344286, 'reg_lambda': 886.7088618532478, 'num_leaves': 119, 'learning_rate': 0.4196717628390228, 'max_depth': 3, 'n_estimators': 12272, 'min_child_samples': 2, 'min_child_weight': 0.10772559174864825, 'subsample': 0.1546192925773618, 'colsample_bytree': 0.17959528157268917}. Best is trial 2 with value: 1.089225973736848.\u001b[0m\n",
      "\u001b[32m[I 2021-05-12 21:51:51,276]\u001b[0m Trial 19 finished with value: 1.0891009327513774 and parameters: {'reg_alpha': 8.730920601505195, 'reg_lambda': 545.8129122368077, 'num_leaves': 109, 'learning_rate': 0.07578953773134743, 'max_depth': 2, 'n_estimators': 26632, 'min_child_samples': 4, 'min_child_weight': 0.013010453253989458, 'subsample': 0.8252192439393786, 'colsample_bytree': 0.044725924840038095}. Best is trial 19 with value: 1.0891009327513774.\u001b[0m\n",
      "\u001b[32m[I 2021-05-12 21:52:35,900]\u001b[0m Trial 20 finished with value: 1.0947584270861441 and parameters: {'reg_alpha': 9.138243630589317, 'reg_lambda': 544.1195361059056, 'num_leaves': 97, 'learning_rate': 0.07354797192183396, 'max_depth': 5, 'n_estimators': 25342, 'min_child_samples': 6, 'min_child_weight': 0.013777823731090827, 'subsample': 0.8481066658717072, 'colsample_bytree': 0.018067990351863572}. Best is trial 19 with value: 1.0891009327513774.\u001b[0m\n",
      "\u001b[32m[I 2021-05-12 21:53:03,776]\u001b[0m Trial 21 finished with value: 1.0896137998803492 and parameters: {'reg_alpha': 6.094456146515718, 'reg_lambda': 507.1660690572167, 'num_leaves': 107, 'learning_rate': 0.09620923605429886, 'max_depth': 2, 'n_estimators': 33106, 'min_child_samples': 4, 'min_child_weight': 0.013568837300839805, 'subsample': 0.9985001362231531, 'colsample_bytree': 0.05444939466635463}. Best is trial 19 with value: 1.0891009327513774.\u001b[0m\n",
      "\u001b[32m[I 2021-05-12 21:53:32,543]\u001b[0m Trial 22 finished with value: 1.0894836780114339 and parameters: {'reg_alpha': 16.4547748709826, 'reg_lambda': 601.9787898492586, 'num_leaves': 109, 'learning_rate': 0.17194148368779055, 'max_depth': 2, 'n_estimators': 26937, 'min_child_samples': 4, 'min_child_weight': 0.0032904613861600073, 'subsample': 0.7353200954646013, 'colsample_bytree': 0.05234624448540234}. Best is trial 19 with value: 1.0891009327513774.\u001b[0m\n",
      "\u001b[32m[I 2021-05-12 21:57:29,385]\u001b[0m Trial 23 finished with value: 1.0893356801553873 and parameters: {'reg_alpha': 15.332338458428126, 'reg_lambda': 599.8919959477397, 'num_leaves': 107, 'learning_rate': 0.013135327161898865, 'max_depth': 2, 'n_estimators': 22934, 'min_child_samples': 4, 'min_child_weight': 0.0029647205890233844, 'subsample': 0.7404407395034541, 'colsample_bytree': 0.04654519220005435}. Best is trial 19 with value: 1.0891009327513774.\u001b[0m\n",
      "\u001b[32m[I 2021-05-12 21:59:38,388]\u001b[0m Trial 24 finished with value: 1.0896488494314418 and parameters: {'reg_alpha': 32.700959607124226, 'reg_lambda': 534.0122685298984, 'num_leaves': 103, 'learning_rate': 0.027227639511056584, 'max_depth': 3, 'n_estimators': 13970, 'min_child_samples': 6, 'min_child_weight': 0.003020712871615714, 'subsample': 0.9106407224803554, 'colsample_bytree': 0.030296336926179866}. Best is trial 19 with value: 1.0891009327513774.\u001b[0m\n",
      "\u001b[32m[I 2021-05-12 22:01:02,788]\u001b[0m Trial 25 finished with value: 1.0890019005231326 and parameters: {'reg_alpha': 13.01086666100246, 'reg_lambda': 571.7035989396395, 'num_leaves': 99, 'learning_rate': 0.056298045256971074, 'max_depth': 2, 'n_estimators': 21144, 'min_child_samples': 4, 'min_child_weight': 0.006073248472791031, 'subsample': 0.751670734417424, 'colsample_bytree': 0.0771162423618313}. Best is trial 25 with value: 1.0890019005231326.\u001b[0m\n",
      "\u001b[32m[I 2021-05-12 22:01:47,340]\u001b[0m Trial 26 finished with value: 1.0891869232934053 and parameters: {'reg_alpha': 10.86616137920391, 'reg_lambda': 541.1200502696232, 'num_leaves': 90, 'learning_rate': 0.0495641462119428, 'max_depth': 3, 'n_estimators': 8899, 'min_child_samples': 5, 'min_child_weight': 0.005761188914235503, 'subsample': 0.619008899937868, 'colsample_bytree': 0.08318534325365678}. Best is trial 25 with value: 1.0890019005231326.\u001b[0m\n",
      "\u001b[32m[I 2021-05-12 22:02:16,688]\u001b[0m Trial 27 finished with value: 1.0894839903450522 and parameters: {'reg_alpha': 4.2471242016286235, 'reg_lambda': 643.5407951697886, 'num_leaves': 92, 'learning_rate': 0.12004462922475972, 'max_depth': 2, 'n_estimators': 7657, 'min_child_samples': 7, 'min_child_weight': 0.01864810625455606, 'subsample': 0.614276343323885, 'colsample_bytree': 0.0896378819318142}. Best is trial 25 with value: 1.0890019005231326.\u001b[0m\n",
      "\u001b[32m[I 2021-05-12 22:03:03,605]\u001b[0m Trial 28 finished with value: 1.0891394499027984 and parameters: {'reg_alpha': 8.474033071776075, 'reg_lambda': 565.9221073604847, 'num_leaves': 90, 'learning_rate': 0.05151051614223168, 'max_depth': 3, 'n_estimators': 8760, 'min_child_samples': 5, 'min_child_weight': 0.059860292968126685, 'subsample': 0.7807477670119604, 'colsample_bytree': 0.07577473425241024}. Best is trial 25 with value: 1.0890019005231326.\u001b[0m\n",
      "\u001b[32m[I 2021-05-12 22:03:23,610]\u001b[0m Trial 29 finished with value: 1.0896779440123407 and parameters: {'reg_alpha': 7.411751076191673, 'reg_lambda': 577.517071989635, 'num_leaves': 97, 'learning_rate': 0.09992939537521056, 'max_depth': 2, 'n_estimators': 902, 'min_child_samples': 6, 'min_child_weight': 0.10776270105121423, 'subsample': 0.7871346988062452, 'colsample_bytree': 0.07078774572129512}. Best is trial 25 with value: 1.0890019005231326.\u001b[0m\n"
     ]
    },
    {
     "name": "stdout",
     "output_type": "stream",
     "text": [
      "Number of finished trials: 30\n",
      "Best trial: {'reg_alpha': 13.01086666100246, 'reg_lambda': 571.7035989396395, 'num_leaves': 99, 'learning_rate': 0.056298045256971074, 'max_depth': 2, 'n_estimators': 21144, 'min_child_samples': 4, 'min_child_weight': 0.006073248472791031, 'subsample': 0.751670734417424, 'colsample_bytree': 0.0771162423618313}\n"
     ]
    }
   ],
   "source": [
    "study = optuna.create_study(direction='minimize')\n",
    "study.optimize(lambda trial: objective(trial,X,y), n_trials=30)\n",
    "print('Number of finished trials:', len(study.trials))\n",
    "print('Best trial:', study.best_trial.params)"
   ]
  },
  {
   "cell_type": "code",
   "execution_count": 6,
   "id": "fantastic-assessment",
   "metadata": {
    "execution": {
     "iopub.execute_input": "2021-05-12T22:03:23.679039Z",
     "iopub.status.busy": "2021-05-12T22:03:23.678055Z",
     "iopub.status.idle": "2021-05-12T22:03:23.682908Z",
     "shell.execute_reply": "2021-05-12T22:03:23.682419Z"
    },
    "papermill": {
     "duration": 0.031972,
     "end_time": "2021-05-12T22:03:23.683048",
     "exception": false,
     "start_time": "2021-05-12T22:03:23.651076",
     "status": "completed"
    },
    "tags": []
   },
   "outputs": [
    {
     "data": {
      "text/plain": [
       "{'reg_alpha': 13.01086666100246,\n",
       " 'reg_lambda': 571.7035989396395,\n",
       " 'num_leaves': 99,\n",
       " 'learning_rate': 0.056298045256971074,\n",
       " 'max_depth': 2,\n",
       " 'n_estimators': 21144,\n",
       " 'min_child_samples': 4,\n",
       " 'min_child_weight': 0.006073248472791031,\n",
       " 'subsample': 0.751670734417424,\n",
       " 'colsample_bytree': 0.0771162423618313}"
      ]
     },
     "execution_count": 6,
     "metadata": {},
     "output_type": "execute_result"
    }
   ],
   "source": [
    "best_params = study.best_trial.params\n",
    "best_params"
   ]
  },
  {
   "cell_type": "code",
   "execution_count": 7,
   "id": "emerging-situation",
   "metadata": {
    "execution": {
     "iopub.execute_input": "2021-05-12T22:03:23.733711Z",
     "iopub.status.busy": "2021-05-12T22:03:23.732996Z",
     "iopub.status.idle": "2021-05-12T22:03:23.825993Z",
     "shell.execute_reply": "2021-05-12T22:03:23.825468Z"
    },
    "papermill": {
     "duration": 0.122568,
     "end_time": "2021-05-12T22:03:23.826154",
     "exception": false,
     "start_time": "2021-05-12T22:03:23.703586",
     "status": "completed"
    },
    "tags": []
   },
   "outputs": [],
   "source": [
    "X_train, X_val, y_train, y_val = train_test_split(X, y, test_size=0.2,random_state=21)"
   ]
  },
  {
   "cell_type": "code",
   "execution_count": 8,
   "id": "opposed-think",
   "metadata": {
    "execution": {
     "iopub.execute_input": "2021-05-12T22:03:23.874134Z",
     "iopub.status.busy": "2021-05-12T22:03:23.873024Z",
     "iopub.status.idle": "2021-05-12T22:08:45.634040Z",
     "shell.execute_reply": "2021-05-12T22:08:45.634561Z"
    },
    "papermill": {
     "duration": 321.787913,
     "end_time": "2021-05-12T22:08:45.634734",
     "exception": false,
     "start_time": "2021-05-12T22:03:23.846821",
     "status": "completed"
    },
    "tags": []
   },
   "outputs": [
    {
     "data": {
      "text/plain": [
       "LGBMClassifier(colsample_bytree=0.0771162423618313,\n",
       "               learning_rate=0.056298045256971074, max_depth=2,\n",
       "               min_child_samples=4, min_child_weight=0.006073248472791031,\n",
       "               n_estimators=21144, num_leaves=99, reg_alpha=13.01086666100246,\n",
       "               reg_lambda=571.7035989396395, subsample=0.751670734417424)"
      ]
     },
     "execution_count": 8,
     "metadata": {},
     "output_type": "execute_result"
    }
   ],
   "source": [
    "lgb = LGBMClassifier(**best_params)\n",
    "lgb.fit(X_train, y_train)"
   ]
  },
  {
   "cell_type": "code",
   "execution_count": 9,
   "id": "confident-happening",
   "metadata": {
    "execution": {
     "iopub.execute_input": "2021-05-12T22:08:45.693863Z",
     "iopub.status.busy": "2021-05-12T22:08:45.682830Z",
     "iopub.status.idle": "2021-05-12T22:09:19.575850Z",
     "shell.execute_reply": "2021-05-12T22:09:19.576455Z"
    },
    "papermill": {
     "duration": 33.920495,
     "end_time": "2021-05-12T22:09:19.576677",
     "exception": false,
     "start_time": "2021-05-12T22:08:45.656182",
     "status": "completed"
    },
    "tags": []
   },
   "outputs": [
    {
     "data": {
      "text/plain": [
       "1.090413456455932"
      ]
     },
     "execution_count": 9,
     "metadata": {},
     "output_type": "execute_result"
    }
   ],
   "source": [
    "y_pred = lgb.predict_proba(X_val)\n",
    "loss = log_loss(y_val, y_pred)\n",
    "loss"
   ]
  },
  {
   "cell_type": "code",
   "execution_count": 10,
   "id": "artistic-welcome",
   "metadata": {
    "execution": {
     "iopub.execute_input": "2021-05-12T22:09:19.628382Z",
     "iopub.status.busy": "2021-05-12T22:09:19.627547Z",
     "iopub.status.idle": "2021-05-12T22:10:42.268341Z",
     "shell.execute_reply": "2021-05-12T22:10:42.268920Z"
    },
    "papermill": {
     "duration": 82.669857,
     "end_time": "2021-05-12T22:10:42.269134",
     "exception": false,
     "start_time": "2021-05-12T22:09:19.599277",
     "status": "completed"
    },
    "tags": []
   },
   "outputs": [
    {
     "data": {
      "text/plain": [
       "array([[0.09247862, 0.61992633, 0.1632069 , 0.12438814],\n",
       "       [0.08322425, 0.70464945, 0.12515889, 0.0869674 ],\n",
       "       [0.08177066, 0.67585777, 0.17069155, 0.07168002],\n",
       "       ...,\n",
       "       [0.08092375, 0.52690999, 0.25121818, 0.14094808],\n",
       "       [0.08722782, 0.61477194, 0.16006077, 0.13793947],\n",
       "       [0.08421565, 0.57416195, 0.20019633, 0.14142607]])"
      ]
     },
     "execution_count": 10,
     "metadata": {},
     "output_type": "execute_result"
    }
   ],
   "source": [
    "y_test = lgb.predict_proba(test)\n",
    "y_test"
   ]
  },
  {
   "cell_type": "code",
   "execution_count": 11,
   "id": "latest-premiere",
   "metadata": {
    "execution": {
     "iopub.execute_input": "2021-05-12T22:10:42.322190Z",
     "iopub.status.busy": "2021-05-12T22:10:42.321489Z",
     "iopub.status.idle": "2021-05-12T22:10:42.343175Z",
     "shell.execute_reply": "2021-05-12T22:10:42.342519Z"
    },
    "papermill": {
     "duration": 0.051604,
     "end_time": "2021-05-12T22:10:42.343342",
     "exception": false,
     "start_time": "2021-05-12T22:10:42.291738",
     "status": "completed"
    },
    "tags": []
   },
   "outputs": [
    {
     "data": {
      "text/html": [
       "<div>\n",
       "<style scoped>\n",
       "    .dataframe tbody tr th:only-of-type {\n",
       "        vertical-align: middle;\n",
       "    }\n",
       "\n",
       "    .dataframe tbody tr th {\n",
       "        vertical-align: top;\n",
       "    }\n",
       "\n",
       "    .dataframe thead th {\n",
       "        text-align: right;\n",
       "    }\n",
       "</style>\n",
       "<table border=\"1\" class=\"dataframe\">\n",
       "  <thead>\n",
       "    <tr style=\"text-align: right;\">\n",
       "      <th></th>\n",
       "      <th>Class_1</th>\n",
       "      <th>Class_2</th>\n",
       "      <th>Class_3</th>\n",
       "      <th>Class_4</th>\n",
       "    </tr>\n",
       "    <tr>\n",
       "      <th>id</th>\n",
       "      <th></th>\n",
       "      <th></th>\n",
       "      <th></th>\n",
       "      <th></th>\n",
       "    </tr>\n",
       "  </thead>\n",
       "  <tbody>\n",
       "    <tr>\n",
       "      <th>100000</th>\n",
       "      <td>0.092479</td>\n",
       "      <td>0.619926</td>\n",
       "      <td>0.163207</td>\n",
       "      <td>0.124388</td>\n",
       "    </tr>\n",
       "    <tr>\n",
       "      <th>100001</th>\n",
       "      <td>0.083224</td>\n",
       "      <td>0.704649</td>\n",
       "      <td>0.125159</td>\n",
       "      <td>0.086967</td>\n",
       "    </tr>\n",
       "    <tr>\n",
       "      <th>100002</th>\n",
       "      <td>0.081771</td>\n",
       "      <td>0.675858</td>\n",
       "      <td>0.170692</td>\n",
       "      <td>0.071680</td>\n",
       "    </tr>\n",
       "    <tr>\n",
       "      <th>100003</th>\n",
       "      <td>0.065461</td>\n",
       "      <td>0.560600</td>\n",
       "      <td>0.305770</td>\n",
       "      <td>0.068168</td>\n",
       "    </tr>\n",
       "    <tr>\n",
       "      <th>100004</th>\n",
       "      <td>0.066181</td>\n",
       "      <td>0.654118</td>\n",
       "      <td>0.169930</td>\n",
       "      <td>0.109771</td>\n",
       "    </tr>\n",
       "    <tr>\n",
       "      <th>100005</th>\n",
       "      <td>0.087108</td>\n",
       "      <td>0.392155</td>\n",
       "      <td>0.398381</td>\n",
       "      <td>0.122356</td>\n",
       "    </tr>\n",
       "    <tr>\n",
       "      <th>100006</th>\n",
       "      <td>0.095958</td>\n",
       "      <td>0.346757</td>\n",
       "      <td>0.433673</td>\n",
       "      <td>0.123612</td>\n",
       "    </tr>\n",
       "    <tr>\n",
       "      <th>100007</th>\n",
       "      <td>0.103080</td>\n",
       "      <td>0.729298</td>\n",
       "      <td>0.105451</td>\n",
       "      <td>0.062171</td>\n",
       "    </tr>\n",
       "    <tr>\n",
       "      <th>100008</th>\n",
       "      <td>0.092141</td>\n",
       "      <td>0.553606</td>\n",
       "      <td>0.232484</td>\n",
       "      <td>0.121769</td>\n",
       "    </tr>\n",
       "    <tr>\n",
       "      <th>100009</th>\n",
       "      <td>0.084497</td>\n",
       "      <td>0.564369</td>\n",
       "      <td>0.205189</td>\n",
       "      <td>0.145945</td>\n",
       "    </tr>\n",
       "  </tbody>\n",
       "</table>\n",
       "</div>"
      ],
      "text/plain": [
       "         Class_1   Class_2   Class_3   Class_4\n",
       "id                                            \n",
       "100000  0.092479  0.619926  0.163207  0.124388\n",
       "100001  0.083224  0.704649  0.125159  0.086967\n",
       "100002  0.081771  0.675858  0.170692  0.071680\n",
       "100003  0.065461  0.560600  0.305770  0.068168\n",
       "100004  0.066181  0.654118  0.169930  0.109771\n",
       "100005  0.087108  0.392155  0.398381  0.122356\n",
       "100006  0.095958  0.346757  0.433673  0.123612\n",
       "100007  0.103080  0.729298  0.105451  0.062171\n",
       "100008  0.092141  0.553606  0.232484  0.121769\n",
       "100009  0.084497  0.564369  0.205189  0.145945"
      ]
     },
     "execution_count": 11,
     "metadata": {},
     "output_type": "execute_result"
    }
   ],
   "source": [
    "result = pd.DataFrame(index=test_set[\"id\"], data={\"Class_1\": y_test[:,0],\"Class_2\": y_test[:,1],\"Class_3\": y_test[:,2],\"Class_4\": y_test[:,3]})\n",
    "result.head(10)"
   ]
  },
  {
   "cell_type": "code",
   "execution_count": 12,
   "id": "flexible-burner",
   "metadata": {
    "execution": {
     "iopub.execute_input": "2021-05-12T22:10:42.395072Z",
     "iopub.status.busy": "2021-05-12T22:10:42.394447Z",
     "iopub.status.idle": "2021-05-12T22:10:42.928873Z",
     "shell.execute_reply": "2021-05-12T22:10:42.928262Z"
    },
    "papermill": {
     "duration": 0.562279,
     "end_time": "2021-05-12T22:10:42.929037",
     "exception": false,
     "start_time": "2021-05-12T22:10:42.366758",
     "status": "completed"
    },
    "tags": []
   },
   "outputs": [],
   "source": [
    "sub = result.to_csv(\"submission_.csv\")"
   ]
  }
 ],
 "metadata": {
  "kernelspec": {
   "display_name": "Python 3",
   "language": "python",
   "name": "python3"
  },
  "language_info": {
   "codemirror_mode": {
    "name": "ipython",
    "version": 3
   },
   "file_extension": ".py",
   "mimetype": "text/x-python",
   "name": "python",
   "nbconvert_exporter": "python",
   "pygments_lexer": "ipython3",
   "version": "3.7.10"
  },
  "papermill": {
   "default_parameters": {},
   "duration": 2105.66909,
   "end_time": "2021-05-12T22:10:45.072041",
   "environment_variables": {},
   "exception": null,
   "input_path": "__notebook__.ipynb",
   "output_path": "__notebook__.ipynb",
   "parameters": {},
   "start_time": "2021-05-12T21:35:39.402951",
   "version": "2.3.3"
  }
 },
 "nbformat": 4,
 "nbformat_minor": 5
}
